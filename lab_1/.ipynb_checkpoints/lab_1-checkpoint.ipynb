{
 "cells": [
  {
   "cell_type": "code",
   "execution_count": null,
   "metadata": {},
   "outputs": [],
   "source": [
    "import numpy as np\n",
    "import pandas as pd\n",
    "import matplotlib.pyplot as plt"
   ]
  },
  {
   "cell_type": "code",
   "execution_count": null,
   "metadata": {},
   "outputs": [],
   "source": [
    "# Створення набору даних\n",
    "scalar = np.array(5)\n",
    "vector = np.arange(10)\n",
    "matrix = np.random.rand(3, 3)\n",
    "\n",
    "# CRUD операції\n",
    "scalar = 10  # Оновлення скалярної змінної\n",
    "vector[2] = 100  # Оновлення елементу вектору\n",
    "matrix[1, 1] = 0  # Оновлення елементу матриці\n",
    "\n",
    "# Виведення результатів\n",
    "print(\"Scalar:\", scalar)\n",
    "print(\"Vector:\", vector)\n",
    "print(\"Matrix:\\n\", matrix)\n"
   ]
  },
  {
   "cell_type": "code",
   "execution_count": null,
   "metadata": {},
   "outputs": [],
   "source": [
    "# Створення DataFrame\n",
    "data = {'Name': ['John', 'Jane', 'Jim'],\n",
    "        'Age': [25, 30, 35],\n",
    "        'City': ['New York', 'San Francisco', 'Los Angeles']}\n",
    "df = pd.DataFrame(data)\n",
    "\n",
    "# Маніпуляції з даними\n",
    "df.head()  # Перегляд перших кількох записів\n",
    "df.describe()  # Отримання статистики\n",
    "df.iloc[1]  # Вибір за індексом\n",
    "df.loc[df['Age'] > 28]  # Вибір за умовою\n"
   ]
  },
  {
   "cell_type": "code",
   "execution_count": null,
   "metadata": {},
   "outputs": [],
   "source": [
    "# Створення набору даних\n",
    "X = np.arange(0, 10, 0.1)\n",
    "Y_true = 2 * X + 1 + np.random.normal(0, 1, len(X))  # Лінійна функція з шумом\n",
    "\n",
    "# Побудова графіка\n",
    "plt.scatter(X, Y_true, label='Дані')\n",
    "plt.plot(X, 2*X + 1, color='red', label='y = 2x + 1')\n",
    "plt.xlabel('X')\n",
    "plt.ylabel('Y')\n",
    "plt.legend()\n",
    "plt.show()\n",
    "\n",
    "# Обчислення похибок\n",
    "MAE = np.mean(np.abs(Y_true - (2*X + 1)))\n",
    "MSE = np.mean((Y_true - (2*X + 1))**2)\n",
    "\n",
    "# Запис результатів у CSV\n",
    "results = pd.DataFrame({'X': X, 'Y_true': Y_true, 'Y_hat': 2*X + 1, 'MAE': MAE, 'MSE': MSE})\n",
    "results.to_csv('results.csv', index=False)\n"
   ]
  }
 ],
 "metadata": {
  "kernelspec": {
   "display_name": "Python 3 (ipykernel)",
   "language": "python",
   "name": "python3"
  },
  "language_info": {
   "codemirror_mode": {
    "name": "ipython",
    "version": 3
   },
   "file_extension": ".py",
   "mimetype": "text/x-python",
   "name": "python",
   "nbconvert_exporter": "python",
   "pygments_lexer": "ipython3",
   "version": "3.9.7"
  },
  "vscode": {
   "interpreter": {
    "hash": "ad2bdc8ecc057115af97d19610ffacc2b4e99fae6737bb82f5d7fb13d2f2c186"
   }
  }
 },
 "nbformat": 4,
 "nbformat_minor": 2
}
