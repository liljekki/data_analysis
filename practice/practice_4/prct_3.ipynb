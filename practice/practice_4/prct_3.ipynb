{
 "cells": [
  {
   "cell_type": "markdown",
   "id": "ca5d77d0",
   "metadata": {},
   "source": [
    "#### Завдання на практичну роботу\n",
    "\n",
    "\n",
    "##### Завдання для бінарної класифікації (Binary Classification):\n",
    "Використовуйте набір даних \"classification_dataset.csv\" для бінарної класифікації.\n",
    "Розділіть дані на навчальний та тестовий набори.\n",
    "Навчіть класифікатор (наприклад, логістичну регресію або метод опорних векторів) та оцініть його ефективність за допомогою метрик, таких як точність, відгук, F1-середнє і AUC-ROC.\n",
    "Візуалізуйте матрицю плутанини та навчіться розпізнавати типи помилок.\n",
    "\n",
    "##### Завдання для мультикласової класифікації (Multiclass Classification):\n",
    "Використовуйте набір даних \"multiclass_dataset.csv\" для мультикласової класифікації.\n",
    "Розділіть дані на навчальний та тестовий набори.\n",
    "Навчіть класифікатор (наприклад, Random Forest або нейронну мережу) та оцініть його ефективність за допомогою метрик, таких як точність, відгук, F1-середнє і матриця плутанини.\n",
    "Порівняйте результати різних класифікаторів.\n",
    "\n",
    "##### Завдання для мультилейбл класифікації (Multilabel Classification):\n",
    "Використовуйте набір даних \"multilabel_dataset.csv\" для мультилейбл класифікації.\n",
    "Розділіть дані на навчальний та тестовий набори.\n",
    "Навчіть класифікатор для прогнозування мультилейблів (наприклад, використовуючи багатошарову нейронну мережу) та оцініть його ефективність за допомогою метрик, таких як точність, відгук і F1-середнє для кожного лейбла.\n",
    "Вивчайте, як класифікатори працюють з різними комбінаціями мультилейбів.\n",
    "Для кожного завдання додатково використати різні моделі класифікації, налаштувати гіперпараметри, оцінити їхню ефективність та вивчити роботу з метриками якості та візуалізацією результатів.\n",
    "\n",
    "Для кожного завдання додатково використати різні моделі класифікації, налаштувати гіперпараметри, оцінити їхню ефективність та вивчити роботу з метриками якості та візуалізацією результатів."
   ]
  },
  {
   "cell_type": "code",
   "execution_count": 9,
   "id": "da3cb8cf",
   "metadata": {},
   "outputs": [],
   "source": [
    "from sklearn.datasets import make_classification\n",
    "from sklearn.model_selection import train_test_split, GridSearchCV\n",
    "from sklearn.linear_model import LogisticRegression\n",
    "from sklearn.feature_extraction.text import TfidfVectorizer\n",
    "from sklearn.naive_bayes import MultinomialNB\n",
    "from sklearn.preprocessing import MultiLabelBinarizer\n",
    "from sklearn.multiclass import OneVsRestClassifier\n",
    "from sklearn.svm import SVC\n",
    "from sklearn.metrics import accuracy_score, precision_score, recall_score, f1_score, roc_auc_score, confusion_matrix, roc_curve, auc, classification_report\n",
    "import matplotlib.pyplot as plt\n",
    "import pandas as pd\n",
    "from sklearn.tree import DecisionTreeClassifier\n",
    "from sklearn.ensemble import RandomForestClassifier\n",
    "from sklearn.multioutput import MultiOutputClassifier\n",
    "from xgboost import XGBClassifier\n",
    "import warnings\n",
    "warnings.filterwarnings(\"ignore\")"
   ]
  },
  {
   "cell_type": "code",
   "execution_count": 13,
   "id": "3369525d",
   "metadata": {},
   "outputs": [
    {
     "name": "stdout",
     "output_type": "stream",
     "text": [
      "Найкращі гіперпараметри: {'max_iter': 100, 'penalty': 'l2'}\n",
      "Accuracy: 0.88\n",
      "Precision: 0.77\n",
      "Recall: 1.00\n",
      "F1 Score: 0.87\n",
      "AUC-ROC: 0.93\n",
      "Confusion Matrix:\n",
      "[[18  5]\n",
      " [ 0 17]]\n"
     ]
    },
    {
     "data": {
      "image/png": "[encoded data removed]",
      "text/plain": [
       "<Figure size 288x288 with 2 Axes>"
      ]
     },
     "metadata": {
      "needs_background": "light"
     },
     "output_type": "display_data"
    }
   ],
   "source": [
    "#1 Binary Classification\n",
    "data = pd.read_csv('classification_dataset.csv')\n",
    "\n",
    "X = data.drop('Target', axis=1)\n",
    "y = data['Target']\n",
    "X_train, X_test, y_train, y_test = train_test_split(X, y, test_size=0.2, random_state=42)\n",
    "\n",
    "param_grid = {\n",
    "    'max_iter': [100, 200, 300, 400],\n",
    "    'penalty': ['l1', 'l2'],\n",
    "}\n",
    "\n",
    "grid_search = GridSearchCV(estimator=LogisticRegression(random_state=42), param_grid=param_grid, cv=5)\n",
    "grid_search.fit(X_train, y_train)\n",
    "\n",
    "classifier = grid_search.best_estimator_\n",
    "y_pred = classifier.predict(X_test)\n",
    "\n",
    "\n",
    "# Виведення найкращих гіперпараметрів та результатів\n",
    "best_params = grid_search.best_params_\n",
    "print(\"Найкращі гіперпараметри:\", best_params)\n",
    "\n",
    "\n",
    "# Оцінка класифікатора за допомогою різних метрик\n",
    "accuracy = accuracy_score(y_test, y_pred)\n",
    "precision = precision_score(y_test, y_pred)\n",
    "recall = recall_score(y_test, y_pred)\n",
    "f1 = f1_score(y_test, y_pred)\n",
    "roc_auc = roc_auc_score(y_test, classifier.predict_proba(X_test)[:, 1])\n",
    "confusion = confusion_matrix(y_test, y_pred)\n",
    "print(f'Accuracy: {accuracy:.2f}')\n",
    "print(f'Precision: {precision:.2f}')\n",
    "print(f'Recall: {recall:.2f}')\n",
    "print(f'F1 Score: {f1:.2f}')\n",
    "print(f'AUC-ROC: {roc_auc:.2f}')\n",
    "print(f'Confusion Matrix:\\n{confusion}')\n",
    "\n",
    "# Візуалізація матриці плутанини\n",
    "plt.matshow(confusion, cmap=plt.cm.Blues)\n",
    "plt.colorbar()\n",
    "plt.xlabel('Predicted')\n",
    "plt.ylabel('Actual')\n",
    "plt.title('Confusion Matrix')\n",
    "plt.xticks([0, 1], ['Negative', 'Positive'])\n",
    "plt.yticks([0, 1], ['Negative', 'Positive'])\n",
    "plt.show()"
   ]
  },
  {
   "cell_type": "code",
   "execution_count": 9,
   "id": "4425c5fd",
   "metadata": {},
   "outputs": [
    {
     "name": "stdout",
     "output_type": "stream",
     "text": [
      "LogisticRegression:\n",
      "precision: 0.65\n",
      "recall: 0.65\n",
      "F1: 0.6395368492224476\n",
      "Матриця:\n",
      "[[ 4  0  3  0]\n",
      " [ 5  2  0  1]\n",
      " [ 1  1 11  1]\n",
      " [ 0  1  1  9]]\n",
      "SVC:\n",
      "precision: 0.7\n",
      "recall: 0.7\n",
      "F1: 0.6821635472370766\n",
      "Матриця:\n",
      "[[ 4  0  3  0]\n",
      " [ 5  2  0  1]\n",
      " [ 1  1 11  1]\n",
      " [ 0  0  0 11]]\n",
      "DecisionTreeClassifier:\n",
      "precision: 0.65\n",
      "recall: 0.65\n",
      "F1: 0.6496303467699349\n",
      "Матриця:\n",
      "[[5 1 1 0]\n",
      " [4 3 0 1]\n",
      " [3 0 9 2]\n",
      " [0 0 2 9]]\n"
     ]
    }
   ],
   "source": [
    "#2 Multiclass Classification\n",
    "data = pd.read_csv('multiclass_dataset.csv')\n",
    "\n",
    "X = data.drop('Target', axis=1)\n",
    "y = data['Target']\n",
    "X_train, X_test, y_train, y_test = train_test_split(X, y, test_size=0.2, random_state=42)\n",
    "\n",
    "\n",
    "m_log = LogisticRegression(C=1.0, penalty='l2', max_iter=1000, random_state=42)\n",
    "m_Svc = SVC(C=1.0, kernel='linear', random_state=42)\n",
    "m_tree = DecisionTreeClassifier(max_depth=None, random_state=42)\n",
    "\n",
    "m_log.fit(X_train, y_train)\n",
    "m_Svc.fit(X_train, y_train)\n",
    "m_tree.fit(X_train, y_train)\n",
    "\n",
    "def metrics(classifier, X_test, y_test):\n",
    "    y_pred = classifier.predict(X_test)\n",
    "    accuracy = accuracy_score(y_test, y_pred)\n",
    "    precision = precision_score(y_test, y_pred, average='weighted')\n",
    "    recall = recall_score(y_test, y_pred, average='weighted')\n",
    "    f1 = f1_score(y_test, y_pred, average='weighted')\n",
    "    conf_matrix = confusion_matrix(y_test, y_pred)\n",
    "    \n",
    "    print(f'{type(classifier).__name__}:')\n",
    "    print(f'precision: {accuracy}')\n",
    "    print(f'recall: {recall}')\n",
    "    print(f'F1: {f1}')\n",
    "    print('Матриця:')\n",
    "    print(conf_matrix)\n",
    "    \n",
    "metrics(m_log, X_test, y_test)\n",
    "metrics(m_Svc, X_test, y_test)\n",
    "metrics(m_tree, X_test, y_test)"
   ]
  },
  {
   "cell_type": "code",
   "execution_count": 10,
   "id": "3bb6ffc4",
   "metadata": {},
   "outputs": [
    {
     "name": "stdout",
     "output_type": "stream",
     "text": [
      "Найкращі гіперпараметри: {'estimator__learning_rate': 0.1, 'estimator__max_depth': 3, 'estimator__n_estimators': 300}\n",
      "\n",
      "Accuracy on test data: 0.4\n",
      "Classification Report:\n",
      "              precision    recall  f1-score   support\n",
      "\n",
      "           0       0.67      0.50      0.57         8\n",
      "           1       0.74      0.70      0.72        20\n",
      "           2       0.85      0.81      0.83        21\n",
      "           3       0.68      0.59      0.63        22\n",
      "\n",
      "   micro avg       0.75      0.68      0.71        71\n",
      "   macro avg       0.73      0.65      0.69        71\n",
      "weighted avg       0.75      0.68      0.71        71\n",
      " samples avg       0.72      0.62      0.64        71\n",
      "\n"
     ]
    }
   ],
   "source": [
    "#3 Multilabel Classification\n",
    "data = pd.read_csv('multilabel_dataset.csv')\n",
    "\n",
    "X = data[['Feature1', 'Feature2', 'Feature3']]\n",
    "y = data[['Label1', 'Label2', 'Label3', 'Label4']]\n",
    "X_train, X_test, y_train, y_test = train_test_split(X, y, test_size=0.2, random_state=13)\n",
    "\n",
    "param_grid = {\n",
    "    'estimator__n_estimators': [100, 200, 300],  # Кількість дерев \n",
    "    'estimator__max_depth': [3, 4, 5],  # Глибина дерев\n",
    "    'estimator__learning_rate': [0.01, 0.1, 0.2]  # Швидкість навчання\n",
    "}\n",
    "\n",
    "clf = MultiOutputClassifier(XGBClassifier())\n",
    "grid_search = GridSearchCV(estimator=clf, param_grid=param_grid, cv=3)\n",
    "grid_search.fit(X_train, y_train)\n",
    "\n",
    "best_estimator = grid_search.best_estimator_\n",
    "best_params = grid_search.best_params_\n",
    "print(\"Найкращі гіперпараметри:\", best_params)\n",
    "y_pred = best_estimator.predict(X_test)\n",
    "\n",
    "accuracy = accuracy_score(y_test, y_pred)\n",
    "print(f'\\nAccuracy on test data: {accuracy}')\n",
    "\n",
    "report = classification_report(y_test, y_pred)\n",
    "print(f'Classification Report:\\n{report}')"
   ]
  },
  {
   "cell_type": "code",
   "execution_count": null,
   "id": "b594c774",
   "metadata": {},
   "outputs": [],
   "source": []
  }
 ],
 "metadata": {
  "kernelspec": {
   "display_name": "Python 3 (ipykernel)",
   "language": "python",
   "name": "python3"
  },
  "language_info": {
   "codemirror_mode": {
    "name": "ipython",
    "version": 3
   },
   "file_extension": ".py",
   "mimetype": "text/x-python",
   "name": "python",
   "nbconvert_exporter": "python",
   "pygments_lexer": "ipython3",
   "version": "3.9.7"
  }
 },
 "nbformat": 4,
 "nbformat_minor": 5
}
