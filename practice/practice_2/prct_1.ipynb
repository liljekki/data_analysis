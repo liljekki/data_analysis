{
 "cells": [
  {
   "cell_type": "markdown",
   "id": "423f4830",
   "metadata": {},
   "source": [
    "Завдання: Генерація та класифікація випадкових даних кредитних заявок\n",
    "\n",
    "Ваше завдання - згенерувати випадковий набір даних про кредитні заявки та побудувати модель класифікації для визначення, чи кредитна заявка \"одобрена\" чи \"відхилена\" на основі цих даних.\n",
    "\n",
    "Кроки:\n",
    "\n",
    "Використовуйте бібліотеку NumPy для генерації випадкових даних. Створіть матрицю ознак X та вектор цільової змінної y. Ознаки можуть бути числовими та категорійними.\n",
    "\n",
    "Згенеруйте випадкові дані, що відповідають \"одобрено\" (клас 1) та \"відхилено\" (клас 0) кредитних заявок.\n",
    "\n",
    "Розділіть дані на тренувальний та тестовий набори.\n",
    "\n",
    "Виберіть модель класифікації з бібліотеки scikit-learn (наприклад, метод опорних векторів, логістична регресія або дерево рішень) та навчіть модель на тренувальних даних.\n",
    "\n",
    "Оцініть точність моделі на тестовому наборі даних та побудуйте матрицю неправильно класифікованих прикладів та звіт про класифікацію.\n",
    "\n",
    "Використайте бібліотеку Matplotlib для візуалізації результатів. Наприклад, побудуйте графік розподілу кредитів за категоріями \"одобрено\" та \"відхилено\".\n",
    "\n",
    "Збережіть вашу модель та здійсніть прогнози на нових заявках на кредит.\n",
    "\n",
    "Запишіть ваш код у окремий файл, додайте коментарі та пояснення, щоб інші могли зрозуміти вашу роботу.\n",
    "\n",
    "Проведіть додатковий аналіз та експерименти з даними та параметрами моделі для поліпшення точності."
   ]
  },
  {
   "cell_type": "code",
   "execution_count": 2,
   "id": "a95f969b",
   "metadata": {},
   "outputs": [],
   "source": [
    "import numpy as np\n",
    "from sklearn.model_selection import train_test_split\n",
    "from sklearn.linear_model import LogisticRegression\n",
    "from sklearn.metrics import accuracy_score, classification_report, confusion_matrix\n",
    "import matplotlib.pyplot as plt\n",
    "import joblib"
   ]
  },
  {
   "cell_type": "code",
   "execution_count": 21,
   "id": "85c6d872",
   "metadata": {},
   "outputs": [
    {
     "data": {
      "text/plain": [
       "LogisticRegression()"
      ]
     },
     "execution_count": 21,
     "metadata": {},
     "output_type": "execute_result"
    }
   ],
   "source": [
    "np.random.seed(102)\n",
    "X_numeric = np.random.rand(100, 3)\n",
    "X_categorical = np.random.randint(1, 4, size=(100, 2))\n",
    "X = np.hstack((X_numeric, X_categorical))\n",
    "y = np.random.randint(0, 2, size=100)\n",
    "\n",
    "X_train, X_test, y_train, y_test = train_test_split(X, y, test_size=0.2, random_state=42)\n",
    "\n",
    "model = LogisticRegression()\n",
    "model.fit(X_train, y_train)"
   ]
  },
  {
   "cell_type": "code",
   "execution_count": 22,
   "id": "d7f6b114",
   "metadata": {},
   "outputs": [
    {
     "name": "stdout",
     "output_type": "stream",
     "text": [
      "Точність моделі: 0.45\n",
      "\n",
      "Звіт про класифікацію:\n",
      "              precision    recall  f1-score   support\n",
      "\n",
      "           0       0.43      0.67      0.52         9\n",
      "           1       0.50      0.27      0.35        11\n",
      "\n",
      "    accuracy                           0.45        20\n",
      "   macro avg       0.46      0.47      0.44        20\n",
      "weighted avg       0.47      0.45      0.43        20\n",
      "\n",
      "\n",
      "Матриця плутанини:\n",
      "[[6 3]\n",
      " [8 3]]\n"
     ]
    }
   ],
   "source": [
    "y_pred = model.predict(X_test)\n",
    "accuracy = accuracy_score(y_test, y_pred)\n",
    "\n",
    "print(f'Точність моделі: {accuracy}')\n",
    "print('\\nЗвіт про класифікацію:')\n",
    "print(classification_report(y_test, y_pred))\n",
    "print('\\nМатриця плутанини:')\n",
    "print(confusion_matrix(y_test, y_pred))\n"
   ]
  },
  {
   "cell_type": "code",
   "execution_count": null,
   "id": "5cc14b17",
   "metadata": {},
   "outputs": [],
   "source": [
    "plt.hist(y, bins=[0, 0.5, 1], align='left', color=['red', 'green'])\n",
    "plt.xlabel('Відхилено         Одобрено')\n",
    "plt.ylabel('Кількість')\n",
    "plt.title('Розподіл кредитів за категоріями')\n",
    "plt.show()\n"
   ]
  },
  {
   "cell_type": "code",
   "execution_count": null,
   "id": "53ab7a8c",
   "metadata": {},
   "outputs": [],
   "source": [
    "\n",
    "\n",
    "# Збереження моделі\n",
    "joblib.dump(model, 'credit_approval_model.pkl')\n",
    "\n",
    "# Завантаження моделі для подальшого використання\n",
    "# loaded_model = joblib.load('credit_approval_model.pkl')\n",
    "\n",
    "# Прогнозування на нових заявках на кредит\n",
    "# new_credit_applications = [...]  # Подайте нові дані в форматі, що відповідає ознакам\n",
    "# predictions = loaded_model.predict(new_credit_applications)\n"
   ]
  },
  {
   "cell_type": "code",
   "execution_count": 66,
   "id": "50fdb64b",
   "metadata": {},
   "outputs": [
    {
     "name": "stdout",
     "output_type": "stream",
     "text": [
      "Точність моделі: 0.75\n",
      "\n",
      "Звіт про класифікацію:\n",
      "              precision    recall  f1-score   support\n",
      "\n",
      "           0       0.67      0.75      0.71         8\n",
      "           1       0.82      0.75      0.78        12\n",
      "\n",
      "    accuracy                           0.75        20\n",
      "   macro avg       0.74      0.75      0.74        20\n",
      "weighted avg       0.76      0.75      0.75        20\n",
      "\n",
      "\n",
      "Матриця плутанини:\n",
      "[[6 2]\n",
      " [3 9]]\n"
     ]
    },
    {
     "name": "stderr",
     "output_type": "stream",
     "text": [
      "C:\\ProgramData\\Anaconda3\\lib\\site-packages\\sklearn\\utils\\validation.py:63: DataConversionWarning: A column-vector y was passed when a 1d array was expected. Please change the shape of y to (n_samples, ), for example using ravel().\n",
      "  return f(*args, **kwargs)\n"
     ]
    }
   ],
   "source": [
    "# Тут ми зробимо теж саме, проте X_categorical буде залежати від X_zp\n",
    "np.random.seed(103)\n",
    "X_zp = np.random.randint(300, 5000, size=(100, 1))\n",
    "y = []\n",
    "for i in range(100):\n",
    "    if X_zp[i]>1500 and np.random.sample()< 0.8:\n",
    "        y.append([1])\n",
    "    else:\n",
    "        y.append([0])\n",
    "X_categorical = np.random.randint(0, 2, size=(100, 1))\n",
    "X = np.hstack((X_zp, X_categorical))\n",
    "\n",
    "\n",
    "X_train, X_test, y_train, y_test = train_test_split(X, y, test_size=0.2, random_state=42)\n",
    "\n",
    "model = LogisticRegression()\n",
    "model.fit(X_train, y_train)\n",
    "\n",
    "\n",
    "y_pred = model.predict(X_test)\n",
    "accuracy = accuracy_score(y_test, y_pred)\n",
    "\n",
    "print(f'Точність моделі: {accuracy}')\n",
    "print('\\nЗвіт про класифікацію:')\n",
    "print(classification_report(y_test, y_pred))\n",
    "print('\\nМатриця плутанини:')\n",
    "print(confusion_matrix(y_test, y_pred))\n"
   ]
  },
  {
   "cell_type": "code",
   "execution_count": null,
   "id": "d93190e9",
   "metadata": {},
   "outputs": [],
   "source": []
  }
 ],
 "metadata": {
  "kernelspec": {
   "display_name": "Python 3 (ipykernel)",
   "language": "python",
   "name": "python3"
  },
  "language_info": {
   "codemirror_mode": {
    "name": "ipython",
    "version": 3
   },
   "file_extension": ".py",
   "mimetype": "text/x-python",
   "name": "python",
   "nbconvert_exporter": "python",
   "pygments_lexer": "ipython3",
   "version": "3.9.7"
  }
 },
 "nbformat": 4,
 "nbformat_minor": 5
}
