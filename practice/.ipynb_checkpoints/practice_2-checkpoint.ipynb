{
 "cells": [
  {
   "cell_type": "code",
   "execution_count": 1,
   "id": "ae4eead1",
   "metadata": {},
   "outputs": [],
   "source": [
    "import pandas as pd\n",
    "import numpy as np"
   ]
  },
  {
   "cell_type": "code",
   "execution_count": null,
   "id": "0650df76",
   "metadata": {},
   "outputs": [],
   "source": [
    "np.random.seed(112)\n",
    "data={\n",
    "    'Housing Area': np.random.randint(50, 201, size = 1000),\n",
    "      'Bedrooms': np.random.randint(1, 6, size = 1000),\n",
    "      'City Center': np.random.randint(1, 21, size = 1000)\n",
    "}\n",
    "noise = np.random.normal(0, 5, 1000)\n",
    "\n",
    "data['Price_target'] = 10 * data['Housing Area'] + 5 * data['Bedrooms'] - 2 * data['City Center'] + noise\n",
    "\n",
    "df = pd.DataFrame(data)\n",
    "df.to_csv('Data.csv', index=False)"
   ]
  }
 ],
 "metadata": {
  "kernelspec": {
   "display_name": "Python 3 (ipykernel)",
   "language": "python",
   "name": "python3"
  },
  "language_info": {
   "codemirror_mode": {
    "name": "ipython",
    "version": 3
   },
   "file_extension": ".py",
   "mimetype": "text/x-python",
   "name": "python",
   "nbconvert_exporter": "python",
   "pygments_lexer": "ipython3",
   "version": "3.9.7"
  }
 },
 "nbformat": 4,
 "nbformat_minor": 5
}
