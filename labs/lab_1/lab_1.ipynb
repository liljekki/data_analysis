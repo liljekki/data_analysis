{
 "cells": [
  {
   "cell_type": "markdown",
   "metadata": {},
   "source": [
    "# Лабораторна робота №1\n",
    "\n",
    "### Завдання:\n",
    "\n",
    "1. **NumPy**\n",
    "   - Створити набір даних (розмір за власним рішенням).\n",
    "   - Провести CRUD операції над даними (скаляр, вектор, матриця). Використати arange, random.\n",
    "\n",
    "2. **Pandas**\n",
    "   - Створити DataFrame різними способами.\n",
    "   - Провести маніпуляції з даними (head, describe, iloc, loc ...).\n",
    "\n",
    "3. **Matplotlib**\n",
    "   - Створити набір даних лінійної функції з урахуванням помилок вимірювань.\n",
    "   - Побудувати графік функції та згенерованих даних.\n",
    "   - Обчислити похибку з використанням метрик MAE, MSE.\n",
    "   - Записати отримані результати у CSV файл (формат: X, Y, Y_hat, mAE, mSE).\n"
   ]
  },
  {
   "cell_type": "code",
   "execution_count": 1,
   "metadata": {},
   "outputs": [],
   "source": [
    "import numpy as np\n",
    "import pandas as pd\n",
    "import matplotlib.pyplot as plt"
   ]
  },
  {
   "cell_type": "code",
   "execution_count": 30,
   "metadata": {},
   "outputs": [
    {
     "name": "stdout",
     "output_type": "stream",
     "text": [
      "Scalar: 10 \n",
      "Vector: [  0   1 100   3   4   5   6   7   8   9] \n",
      " Matrix:\n",
      " [[0.75671913 0.9925732  0.89052729]\n",
      " [0.12130649 0.         0.77153416]\n",
      " [0.09529399 0.93146764 0.79082665]]\n",
      "[[0.75671913 0.9925732  0.89052729]\n",
      " [0.12130649 0.         0.77153416]\n",
      " [0.09529399 0.93146764 0.79082665]]\n"
     ]
    }
   ],
   "source": [
    "scalar = np.array(5)\n",
    "vector = np.arange(10)\n",
    "matrix = np.random.rand(3, 3)\n",
    "\n",
    "scalar = 10\n",
    "vector[2] = 100\n",
    "matrix[1, 1] = 0\n",
    "\n",
    "print(\"Scalar:\", scalar, \"\\nVector:\", vector, \"\\n Matrix:\\n\", matrix)\n",
    "\n",
    "np.delete(matrix, 1, axis = 0)\n",
    "print(matrix)"
   ]
  },
  {
   "cell_type": "code",
   "execution_count": 31,
   "metadata": {},
   "outputs": [
    {
     "name": "stdout",
     "output_type": "stream",
     "text": [
      "   Name  Age           City\n",
      "0  John   25       New York\n",
      "1  Jane   30  San Francisco \n",
      "----------------------------\n",
      "   Name  Age           City\n",
      "1  Jane   30  San Francisco\n",
      "2   Jim   35    Los Angeles \n",
      "----------------------------\n",
      "        Age\n",
      "count   3.0\n",
      "mean   30.0\n",
      "std     5.0\n",
      "min    25.0\n",
      "25%    27.5\n",
      "50%    30.0\n",
      "75%    32.5\n",
      "max    35.0 \n",
      "----------------------------\n",
      "Name             Jane\n",
      "Age                30\n",
      "City    San Francisco\n",
      "Name: 1, dtype: object \n",
      "----------------------------\n",
      "   Name  Age           City\n",
      "1  Jane   30  San Francisco\n",
      "2   Jim   35    Los Angeles\n"
     ]
    }
   ],
   "source": [
    "#1\n",
    "data_matrix =  [[1, 'John'],\n",
    "        [2, 'Jane'],\n",
    "        [3, 'Jim']]\n",
    "df = pd.DataFrame(data_matrix, columns=['ID', 'Name'])\n",
    "#2\n",
    "data_dict = {'Name': ['John', 'Jane', 'Jim'],\n",
    "        'Age': [25, 30, 35],\n",
    "        'City': ['New York', 'San Francisco', 'Los Angeles']}\n",
    "df = pd.DataFrame(data_dict)\n",
    "\n",
    "print(df.head(2), \"\\n----------------------------\")\n",
    "print(df.tail(2), \"\\n----------------------------\")\n",
    "print(df.describe(), \"\\n----------------------------\")\n",
    "print(df.iloc[1], \"\\n----------------------------\")\n",
    "print(df.loc[df['Age'] > 29])\n",
    "\n"
   ]
  },
  {
   "cell_type": "code",
   "execution_count": 23,
   "metadata": {},
   "outputs": [
    {
     "data": {
      "image/png": "[encoded data removed]",
      "text/plain": [
       "<Figure size 432x288 with 1 Axes>"
      ]
     },
     "metadata": {
      "needs_background": "light"
     },
     "output_type": "display_data"
    }
   ],
   "source": [
    "X = np.arange(0, 10, 0.1)\n",
    "Y_true = 2 * X + 1 + np.random.normal(0, 1, len(X))  # Лінійна функція з шумом\n",
    "Y_fit = 2 * X + 1\n",
    "\n",
    "plt.scatter(X, Y_true, label='Дані')\n",
    "plt.plot(X, 2*X + 1, color='red', label='y = 2x + 1')\n",
    "plt.xlabel('X')\n",
    "plt.ylabel('Y')\n",
    "plt.legend()\n",
    "plt.show()\n",
    "\n",
    "MAE = np.mean(np.abs(Y_true - (2*X + 1)))\n",
    "MSE = np.mean((Y_true - (2*X + 1))**2)\n",
    "\n",
    "results = pd.DataFrame({'X': X, 'Y_true': Y_true, 'Y_fit': Y_fit, 'MAE': MAE, 'MSE': MSE})\n",
    "results.to_csv('results.csv', index=False)\n"
   ]
  },
  {
   "cell_type": "code",
   "execution_count": 24,
   "metadata": {},
   "outputs": [
    {
     "data": {
      "text/html": [
       "<div>\n",
       "<style scoped>\n",
       "    .dataframe tbody tr th:only-of-type {\n",
       "        vertical-align: middle;\n",
       "    }\n",
       "\n",
       "    .dataframe tbody tr th {\n",
       "        vertical-align: top;\n",
       "    }\n",
       "\n",
       "    .dataframe thead th {\n",
       "        text-align: right;\n",
       "    }\n",
       "</style>\n",
       "<table border=\"1\" class=\"dataframe\">\n",
       "  <thead>\n",
       "    <tr style=\"text-align: right;\">\n",
       "      <th></th>\n",
       "      <th>X</th>\n",
       "      <th>Y_true</th>\n",
       "      <th>Y_fit</th>\n",
       "      <th>MAE</th>\n",
       "      <th>MSE</th>\n",
       "    </tr>\n",
       "  </thead>\n",
       "  <tbody>\n",
       "    <tr>\n",
       "      <th>0</th>\n",
       "      <td>0.0</td>\n",
       "      <td>2.612938</td>\n",
       "      <td>1.0</td>\n",
       "      <td>0.882309</td>\n",
       "      <td>1.136316</td>\n",
       "    </tr>\n",
       "    <tr>\n",
       "      <th>1</th>\n",
       "      <td>0.1</td>\n",
       "      <td>1.414366</td>\n",
       "      <td>1.2</td>\n",
       "      <td>0.882309</td>\n",
       "      <td>1.136316</td>\n",
       "    </tr>\n",
       "    <tr>\n",
       "      <th>2</th>\n",
       "      <td>0.2</td>\n",
       "      <td>1.943741</td>\n",
       "      <td>1.4</td>\n",
       "      <td>0.882309</td>\n",
       "      <td>1.136316</td>\n",
       "    </tr>\n",
       "    <tr>\n",
       "      <th>3</th>\n",
       "      <td>0.3</td>\n",
       "      <td>1.417417</td>\n",
       "      <td>1.6</td>\n",
       "      <td>0.882309</td>\n",
       "      <td>1.136316</td>\n",
       "    </tr>\n",
       "    <tr>\n",
       "      <th>4</th>\n",
       "      <td>0.4</td>\n",
       "      <td>2.716775</td>\n",
       "      <td>1.8</td>\n",
       "      <td>0.882309</td>\n",
       "      <td>1.136316</td>\n",
       "    </tr>\n",
       "    <tr>\n",
       "      <th>...</th>\n",
       "      <td>...</td>\n",
       "      <td>...</td>\n",
       "      <td>...</td>\n",
       "      <td>...</td>\n",
       "      <td>...</td>\n",
       "    </tr>\n",
       "    <tr>\n",
       "      <th>95</th>\n",
       "      <td>9.5</td>\n",
       "      <td>21.783762</td>\n",
       "      <td>20.0</td>\n",
       "      <td>0.882309</td>\n",
       "      <td>1.136316</td>\n",
       "    </tr>\n",
       "    <tr>\n",
       "      <th>96</th>\n",
       "      <td>9.6</td>\n",
       "      <td>21.499674</td>\n",
       "      <td>20.2</td>\n",
       "      <td>0.882309</td>\n",
       "      <td>1.136316</td>\n",
       "    </tr>\n",
       "    <tr>\n",
       "      <th>97</th>\n",
       "      <td>9.7</td>\n",
       "      <td>20.560018</td>\n",
       "      <td>20.4</td>\n",
       "      <td>0.882309</td>\n",
       "      <td>1.136316</td>\n",
       "    </tr>\n",
       "    <tr>\n",
       "      <th>98</th>\n",
       "      <td>9.8</td>\n",
       "      <td>19.876048</td>\n",
       "      <td>20.6</td>\n",
       "      <td>0.882309</td>\n",
       "      <td>1.136316</td>\n",
       "    </tr>\n",
       "    <tr>\n",
       "      <th>99</th>\n",
       "      <td>9.9</td>\n",
       "      <td>21.021879</td>\n",
       "      <td>20.8</td>\n",
       "      <td>0.882309</td>\n",
       "      <td>1.136316</td>\n",
       "    </tr>\n",
       "  </tbody>\n",
       "</table>\n",
       "<p>100 rows × 5 columns</p>\n",
       "</div>"
      ],
      "text/plain": [
       "      X     Y_true  Y_fit       MAE       MSE\n",
       "0   0.0   2.612938    1.0  0.882309  1.136316\n",
       "1   0.1   1.414366    1.2  0.882309  1.136316\n",
       "2   0.2   1.943741    1.4  0.882309  1.136316\n",
       "3   0.3   1.417417    1.6  0.882309  1.136316\n",
       "4   0.4   2.716775    1.8  0.882309  1.136316\n",
       "..  ...        ...    ...       ...       ...\n",
       "95  9.5  21.783762   20.0  0.882309  1.136316\n",
       "96  9.6  21.499674   20.2  0.882309  1.136316\n",
       "97  9.7  20.560018   20.4  0.882309  1.136316\n",
       "98  9.8  19.876048   20.6  0.882309  1.136316\n",
       "99  9.9  21.021879   20.8  0.882309  1.136316\n",
       "\n",
       "[100 rows x 5 columns]"
      ]
     },
     "execution_count": 24,
     "metadata": {},
     "output_type": "execute_result"
    }
   ],
   "source": [
    "df = pd.read_csv(\"./results.csv\")\n",
    "df"
   ]
  }
 ],
 "metadata": {
  "kernelspec": {
   "display_name": "Python 3 (ipykernel)",
   "language": "python",
   "name": "python3"
  },
  "language_info": {
   "codemirror_mode": {
    "name": "ipython",
    "version": 3
   },
   "file_extension": ".py",
   "mimetype": "text/x-python",
   "name": "python",
   "nbconvert_exporter": "python",
   "pygments_lexer": "ipython3",
   "version": "3.9.7"
  },
  "vscode": {
   "interpreter": {
    "hash": "ad2bdc8ecc057115af97d19610ffacc2b4e99fae6737bb82f5d7fb13d2f2c186"
   }
  }
 },
 "nbformat": 4,
 "nbformat_minor": 2
}
